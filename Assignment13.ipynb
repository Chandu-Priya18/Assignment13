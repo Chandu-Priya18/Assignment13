{
  "nbformat": 4,
  "nbformat_minor": 0,
  "metadata": {
    "colab": {
      "name": "Assignment13",
      "provenance": [],
      "collapsed_sections": []
    },
    "kernelspec": {
      "name": "python3",
      "display_name": "Python 3"
    }
  },
  "cells": [
    {
      "cell_type": "code",
      "metadata": {
        "id": "PzBbEKSyjsZj",
        "colab_type": "code",
        "colab": {
          "base_uri": "https://localhost:8080/",
          "height": 51
        },
        "outputId": "b6564081-6f38-4ec7-e703-46c482ecb72e"
      },
      "source": [
        "# 1&2)what is dictionary in python?explain with example\n",
        " Dictionaries are another example of a data structure.\n",
        " A dictionary is used to map or associate things you want to store the keys you need to get them.\n",
        " A dictionary in Python is just like a dictionary in the real world. \n",
        " Python Dictionary are defined into two elements Keys and Values.\n",
        " Values can be a list or list within a list, numbers, etc.\n",
        "#example:\n",
        "Dict = {'Name': 'Geeks', 1: [1, 2, 3, 4]} \n",
        "print(\"Dictionary with the use of Mixed Keys: \") \n",
        "print(Dict)"
      ],
      "execution_count": 4,
      "outputs": [
        {
          "output_type": "stream",
          "text": [
            "Dictionary with the use of Mixed Keys: \n",
            "{'Name': 'Geeks', 1: [1, 2, 3, 4]}\n"
          ],
          "name": "stdout"
        }
      ]
    },
    {
      "cell_type": "code",
      "metadata": {
        "id": "jSD3YJ_KkaWV",
        "colab_type": "code",
        "colab": {
          "base_uri": "https://localhost:8080/",
          "height": 34
        },
        "outputId": "adf57d25-9c89-4c4d-efa6-174783bf7c80"
      },
      "source": [
        "# 3)python program to sum all the items in a list\n",
        "total = 0\n",
        "list1 = [11, 5, 17, 18, 23]   \n",
        "for ele in range(0, len(list1)): \n",
        "    total = total + list1[ele] \n",
        "print(\"Sum of all elements in given list: \", total)"
      ],
      "execution_count": 5,
      "outputs": [
        {
          "output_type": "stream",
          "text": [
            "Sum of all elements in given list:  74\n"
          ],
          "name": "stdout"
        }
      ]
    },
    {
      "cell_type": "code",
      "metadata": {
        "id": "MkyspFW7kj9B",
        "colab_type": "code",
        "colab": {
          "base_uri": "https://localhost:8080/",
          "height": 34
        },
        "outputId": "1182c04b-21f9-4461-cc5c-195822b0d204"
      },
      "source": [
        "# 4)python program to create a list of empty dictionaries\n",
        "n = 5\n",
        "l = [{} for _ in range(n)]\n",
        "print(l)"
      ],
      "execution_count": 6,
      "outputs": [
        {
          "output_type": "stream",
          "text": [
            "[{}, {}, {}, {}, {}]\n"
          ],
          "name": "stdout"
        }
      ]
    },
    {
      "cell_type": "code",
      "metadata": {
        "id": "aM_unNanknis",
        "colab_type": "code",
        "colab": {
          "base_uri": "https://localhost:8080/",
          "height": 34
        },
        "outputId": "ade1a0c3-13e3-40b3-86c3-ce20e71ddefc"
      },
      "source": [
        "# 5)Python program to access dictionary keys element by index\n",
        "num = {'physics': 80, 'math': 90, 'chemistry': 86}\n",
        "print(list(num)[1])"
      ],
      "execution_count": 7,
      "outputs": [
        {
          "output_type": "stream",
          "text": [
            "math\n"
          ],
          "name": "stdout"
        }
      ]
    },
    {
      "cell_type": "code",
      "metadata": {
        "id": "17vn3CLpkrmn",
        "colab_type": "code",
        "colab": {
          "base_uri": "https://localhost:8080/",
          "height": 68
        },
        "outputId": "372abb89-2ca3-49ed-dcd5-f997e88b79ee"
      },
      "source": [
        "# 6)python program to iterate over dictionaries using for loops\n",
        "d1={'name': 'Ravi', 'age': 23, 'marks': 56}\n",
        "for t in d1.items():\n",
        "  print(t)"
      ],
      "execution_count": 8,
      "outputs": [
        {
          "output_type": "stream",
          "text": [
            "('name', 'Ravi')\n",
            "('age', 23)\n",
            "('marks', 56)\n"
          ],
          "name": "stdout"
        }
      ]
    },
    {
      "cell_type": "code",
      "metadata": {
        "id": "GCYXzQb-kurz",
        "colab_type": "code",
        "colab": {
          "base_uri": "https://localhost:8080/",
          "height": 34
        },
        "outputId": "5d6017cf-7124-452a-d0ca-8d0357501594"
      },
      "source": [
        "# 7)python program to sum all the items in a dictionary\n",
        "my_dict = {'data1':100,'data2':-54,'data3':247}\n",
        "print(sum(my_dict.values()))"
      ],
      "execution_count": 9,
      "outputs": [
        {
          "output_type": "stream",
          "text": [
            "293\n"
          ],
          "name": "stdout"
        }
      ]
    },
    {
      "cell_type": "code",
      "metadata": {
        "id": "raM2xptBkxZy",
        "colab_type": "code",
        "colab": {
          "base_uri": "https://localhost:8080/",
          "height": 34
        },
        "outputId": "5d732fdc-bfb1-455b-95d1-fb218193e19f"
      },
      "source": [
        "# 8&9)Python program to concatenate dictionaries to create a new one.\n",
        "dic1={1:10, 2:20}\n",
        "dic2={3:30, 4:40}\n",
        "dic3={5:50,6:60}\n",
        "dic4 = {}\n",
        "for d in (dic1, dic2, dic3): dic4.update(d)\n",
        "print(dic4)"
      ],
      "execution_count": 10,
      "outputs": [
        {
          "output_type": "stream",
          "text": [
            "{1: 10, 2: 20, 3: 30, 4: 40, 5: 50, 6: 60}\n"
          ],
          "name": "stdout"
        }
      ]
    },
    {
      "cell_type": "code",
      "metadata": {
        "id": "B4Nupb3rk14T",
        "colab_type": "code",
        "colab": {
          "base_uri": "https://localhost:8080/",
          "height": 34
        },
        "outputId": "526e3ab5-d8a6-41f1-b42d-c1374db6c182"
      },
      "source": [
        "# 10)python program to create a tuple\n",
        "tuple1=(1,2,3)\n",
        "print(tuple1)"
      ],
      "execution_count": 11,
      "outputs": [
        {
          "output_type": "stream",
          "text": [
            "(1, 2, 3)\n"
          ],
          "name": "stdout"
        }
      ]
    },
    {
      "cell_type": "code",
      "metadata": {
        "id": "mYk4Q_Hlk4yg",
        "colab_type": "code",
        "colab": {
          "base_uri": "https://localhost:8080/",
          "height": 34
        },
        "outputId": "0a5272ec-eb26-430f-f9b4-a76cb2ed46e9"
      },
      "source": [
        "# 11)python program to create a tuple with different data types\n",
        "tuple=(\"tuple\", False, 3.2, 1)\n",
        "print(tuple)"
      ],
      "execution_count": 12,
      "outputs": [
        {
          "output_type": "stream",
          "text": [
            "('tuple', False, 3.2, 1)\n"
          ],
          "name": "stdout"
        }
      ]
    },
    {
      "cell_type": "code",
      "metadata": {
        "id": "diut7PNLk7iT",
        "colab_type": "code",
        "colab": {
          "base_uri": "https://localhost:8080/",
          "height": 34
        },
        "outputId": "9a334a53-8c28-46ec-c35e-bccd71150b57"
      },
      "source": [
        "# 12)Python program to convert a tuple to a string.\n",
        "tuple=('e', 'x', 'e', 'r', 'c', 'i', 's', 'e', 's')\n",
        "str=''.join(tuple)\n",
        "print(str)"
      ],
      "execution_count": 13,
      "outputs": [
        {
          "output_type": "stream",
          "text": [
            "exercises\n"
          ],
          "name": "stdout"
        }
      ]
    },
    {
      "cell_type": "code",
      "metadata": {
        "id": "-YwUpFOzk_oO",
        "colab_type": "code",
        "colab": {
          "base_uri": "https://localhost:8080/",
          "height": 68
        },
        "outputId": "c20d20e0-2332-4dac-b4e7-099d134136b6"
      },
      "source": [
        "# 13)python program to slice a tuple\n",
        "tuplex = (2, 4, 3, 5, 4, 6, 7, 8, 6, 1)\n",
        "slice = tuplex[3:5]\n",
        "print(slice)\n",
        "slice = tuplex[:6]\n",
        "print(slice)\n",
        "slice = tuplex[5:]\n",
        "print(slice)"
      ],
      "execution_count": 14,
      "outputs": [
        {
          "output_type": "stream",
          "text": [
            "(5, 4)\n",
            "(2, 4, 3, 5, 4, 6)\n",
            "(6, 7, 8, 6, 1)\n"
          ],
          "name": "stdout"
        }
      ]
    },
    {
      "cell_type": "code",
      "metadata": {
        "id": "cnzG1xBqlCGp",
        "colab_type": "code",
        "colab": {
          "base_uri": "https://localhost:8080/",
          "height": 34
        },
        "outputId": "661fdeff-2b78-481a-a100-d01dadf72940"
      },
      "source": [
        "# 14)python program to find the length of a tuple\n",
        "tuple1=(1,2,4,6,7)\n",
        "print(len(tuple1))"
      ],
      "execution_count": 15,
      "outputs": [
        {
          "output_type": "stream",
          "text": [
            "5\n"
          ],
          "name": "stdout"
        }
      ]
    },
    {
      "cell_type": "code",
      "metadata": {
        "id": "nw9MCw7ilFtx",
        "colab_type": "code",
        "colab": {
          "base_uri": "https://localhost:8080/",
          "height": 34
        },
        "outputId": "c60ebedf-da75-469a-da3b-0306a36eb7bf"
      },
      "source": [
        "# 15)python program to convert a tuple to a dictionary\n",
        "tuplex = ((2, \"w\"),(3, \"r\"))\n",
        "print(dict((y, x) for x, y in tuplex))"
      ],
      "execution_count": 16,
      "outputs": [
        {
          "output_type": "stream",
          "text": [
            "{'w': 2, 'r': 3}\n"
          ],
          "name": "stdout"
        }
      ]
    },
    {
      "cell_type": "code",
      "metadata": {
        "id": "L8KvKEoxlJs-",
        "colab_type": "code",
        "colab": {
          "base_uri": "https://localhost:8080/",
          "height": 102
        },
        "outputId": "7fbd1549-a1b3-47ea-eef1-04db6dfa07f3"
      },
      "source": [
        "# 16)python program to reverse a tuple\n",
        "my_tuple = (1,2,3.78,9.56,\"StudyTonight\")\n",
        "def reverse_enum(my_tuple):\n",
        "   for index in reversed(range(len(my_tuple))):\n",
        "      yield my_tuple[index]\n",
        "for item in reverse_enum(my_tuple):\n",
        "   print(item)"
      ],
      "execution_count": 17,
      "outputs": [
        {
          "output_type": "stream",
          "text": [
            "StudyTonight\n",
            "9.56\n",
            "3.78\n",
            "2\n",
            "1\n"
          ],
          "name": "stdout"
        }
      ]
    },
    {
      "cell_type": "code",
      "metadata": {
        "id": "zmNH_HIxlM-a",
        "colab_type": "code",
        "colab": {
          "base_uri": "https://localhost:8080/",
          "height": 34
        },
        "outputId": "310a85e9-ce43-4b57-c78e-61ff67bee8d9"
      },
      "source": [
        "# 17)python program to convert a list of tuples into a dictionary\n",
        "l = [(\"x\", 1), (\"x\", 2), (\"x\", 3), (\"y\", 1), (\"y\", 2), (\"z\", 1)]\n",
        "d = {}\n",
        "for a, b in l:\n",
        "    d.setdefault(a, []).append(b)\n",
        "print (d)"
      ],
      "execution_count": 18,
      "outputs": [
        {
          "output_type": "stream",
          "text": [
            "{'x': [1, 2, 3], 'y': [1, 2], 'z': [1]}\n"
          ],
          "name": "stdout"
        }
      ]
    },
    {
      "cell_type": "code",
      "metadata": {
        "id": "Ynmp_t2rlPtb",
        "colab_type": "code",
        "colab": {
          "base_uri": "https://localhost:8080/",
          "height": 51
        },
        "outputId": "99325344-94e5-4f8e-fdd5-2e64fccb6b30"
      },
      "source": [
        "# 18)python program to convert a list to a tuple\n",
        "listx = [5,10,7,4,15,3]\n",
        "print(listx)\n",
        "tuplex = tuple(listx)\n",
        "print(tuplex)"
      ],
      "execution_count": 23,
      "outputs": [
        {
          "output_type": "stream",
          "text": [
            "[5, 10, 7, 4, 15, 3]\n",
            "[5, 10, 7, 4, 15, 3]\n"
          ],
          "name": "stdout"
        }
      ]
    },
    {
      "cell_type": "code",
      "metadata": {
        "id": "a64I2gTwlUVT",
        "colab_type": "code",
        "colab": {}
      },
      "source": [
        ""
      ],
      "execution_count": null,
      "outputs": []
    }
  ]
}